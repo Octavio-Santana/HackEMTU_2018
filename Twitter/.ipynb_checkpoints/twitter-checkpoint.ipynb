{
 "metadata": {
  "name": ""
 },
 "nbformat": 3,
 "nbformat_minor": 0,
 "worksheets": [
  {
   "cells": [
    {
     "cell_type": "code",
     "collapsed": false,
     "input": [
      "from requests_oauthlib import OAuth1Session"
     ],
     "language": "python",
     "metadata": {},
     "outputs": [],
     "prompt_number": 1
    },
    {
     "cell_type": "code",
     "collapsed": false,
     "input": [
      "API_KEY = 'EI41mMUkf4FROyZLe3cSdjZ0U'\n",
      "API_SECRET = 'GsczTIDDDX84IJtz6cMuwwJLJF7NjNODlULOH5GwxL8vKfMa81'\n",
      "ACCESS_TOKEN = '982701662300262401-8rQan7ZvODoxLnamqiOIjrZjbWmK6iN'\n",
      "ACCESS_TOKEN_SECRET = 'X9rYT3cyGxBlW0KAHhaNJBnlWBur0qdN3xqTDimHqVuVi'"
     ],
     "language": "python",
     "metadata": {},
     "outputs": [],
     "prompt_number": 2
    },
    {
     "cell_type": "code",
     "collapsed": false,
     "input": [
      "session = OAuth1Session(API_KEY, API_SECRET, ACCESS_TOKEN, ACCESS_TOKEN_SECRET)"
     ],
     "language": "python",
     "metadata": {},
     "outputs": [],
     "prompt_number": 3
    },
    {
     "cell_type": "code",
     "collapsed": false,
     "input": [
      "response = session.get('https://api.twitter.com/1.1/search/tweets.json?q=%23python')"
     ],
     "language": "python",
     "metadata": {},
     "outputs": [],
     "prompt_number": 4
    },
    {
     "cell_type": "code",
     "collapsed": false,
     "input": [
      "response.status_code"
     ],
     "language": "python",
     "metadata": {},
     "outputs": [
      {
       "metadata": {},
       "output_type": "pyout",
       "prompt_number": 5,
       "text": [
        "200"
       ]
      }
     ],
     "prompt_number": 5
    },
    {
     "cell_type": "markdown",
     "metadata": {},
     "source": [
      "---\n",
      "\n",
      "Observe que passamos a string \"%23python\" ao par\u00e2metro q.  \"%23\" \u00e9 a representa\u00e7\u00e3o do caractere \"#\" no esquema de codifica\u00e7\u00e3o de URLs usado na web, por isso a utilizamos na URL enviada ao servi\u00e7o ao inv\u00e9s do caractere \"#\". Para n\u00e3o termos que codificar a URL \u201cna m\u00e3o\u201d, podemos utilizar a fun\u00e7\u00e3o requests.utils.quote() para codificar os caracteres da URL pra gente:"
     ]
    },
    {
     "cell_type": "code",
     "collapsed": false,
     "input": [
      "import requests\n",
      "import json"
     ],
     "language": "python",
     "metadata": {},
     "outputs": [],
     "prompt_number": 4
    },
    {
     "cell_type": "code",
     "collapsed": false,
     "input": [
      "requests.utils.quote(\"#python\")"
     ],
     "language": "python",
     "metadata": {},
     "outputs": [
      {
       "metadata": {},
       "output_type": "pyout",
       "prompt_number": 5,
       "text": [
        "'%23python'"
       ]
      }
     ],
     "prompt_number": 5
    },
    {
     "cell_type": "code",
     "collapsed": false,
     "input": [
      "url = \"https://api.twitter.com/1.1/search/tweets.json?q=%s\"\n",
      "url = url % (requests.utils.quote(\"#python\"))\n",
      "response = session.get(url)\n",
      "print(response)"
     ],
     "language": "python",
     "metadata": {},
     "outputs": [
      {
       "output_type": "stream",
       "stream": "stdout",
       "text": [
        "<Response [200]>\n"
       ]
      }
     ],
     "prompt_number": 6
    },
    {
     "cell_type": "code",
     "collapsed": false,
     "input": [
      "tweets = json.loads(response.content.decode(\"utf-8\"))"
     ],
     "language": "python",
     "metadata": {},
     "outputs": [],
     "prompt_number": 7
    },
    {
     "cell_type": "code",
     "collapsed": false,
     "input": [
      "tweets.keys()"
     ],
     "language": "python",
     "metadata": {},
     "outputs": [
      {
       "metadata": {},
       "output_type": "pyout",
       "prompt_number": 8,
       "text": [
        "dict_keys(['search_metadata', 'statuses'])"
       ]
      }
     ],
     "prompt_number": 8
    },
    {
     "cell_type": "code",
     "collapsed": false,
     "input": [
      "tweets['statuses'][0].keys()"
     ],
     "language": "python",
     "metadata": {},
     "outputs": [
      {
       "metadata": {},
       "output_type": "pyout",
       "prompt_number": 9,
       "text": [
        "dict_keys(['metadata', 'retweeted', 'id_str', 'in_reply_to_user_id', 'coordinates', 'in_reply_to_screen_name', 'in_reply_to_user_id_str', 'created_at', 'is_quote_status', 'extended_entities', 'place', 'lang', 'favorited', 'contributors', 'entities', 'possibly_sensitive', 'favorite_count', 'source', 'truncated', 'id', 'retweet_count', 'geo', 'user', 'in_reply_to_status_id_str', 'text', 'in_reply_to_status_id'])"
       ]
      }
     ],
     "prompt_number": 9
    },
    {
     "cell_type": "code",
     "collapsed": false,
     "input": [
      "print(tweets['statuses'][0]['text'])"
     ],
     "language": "python",
     "metadata": {},
     "outputs": [
      {
       "output_type": "stream",
       "stream": "stdout",
       "text": [
        "Computer Programming For Beginners Learn Python Programming\n",
        "\n",
        "\u261e https://t.co/MrH00z6vQl\n",
        "\n",
        "#Python https://t.co/nZFpApHZkm\n"
       ]
      }
     ],
     "prompt_number": 10
    },
    {
     "cell_type": "code",
     "collapsed": false,
     "input": [
      "print(tweets['statuses'][0]['user']['description'])"
     ],
     "language": "python",
     "metadata": {},
     "outputs": [
      {
       "output_type": "stream",
       "stream": "stdout",
       "text": [
        "#programming #experience\n"
       ]
      }
     ],
     "prompt_number": 11
    },
    {
     "cell_type": "code",
     "collapsed": false,
     "input": [
      "for t in sorted(tweets['statuses'], key=lambda x: x['retweet_count'], reverse=True):\n",
      "    print(t['text'])"
     ],
     "language": "python",
     "metadata": {},
     "outputs": [
      {
       "output_type": "stream",
       "stream": "stdout",
       "text": [
        "RT @KirkDBorne: 5 Free #DataScience Books: https://t.co/4MO9gDGp1e #abdsc #BigData #Statistics #MachineLearning #DataScientists #DataMining\u2026\n",
        "RT @gp_pulipaka: #IBM Can Now Simulate Chemical Molecules. #BigData #MachineLearning #DataScience #AI #Python #QuantumComputing \n",
        "https://t.\u2026\n",
        "RT @programmingurus: New Release - Free and open source Educational Products by JetBrains.\n",
        "\n",
        "https://t.co/PhEVrZkWdk https://t.co/Ar2JPngL7t\u2026\n",
        "RT @programmingurus: \"The CodePen community got a high score this week!\n",
        "\n",
        "Check out some of our favorites from the Pac-Man #CodePenChallenge\u2026\n",
        "RT @programmingurus: \"The CodePen community got a high score this week!\n",
        "\n",
        "Check out some of our favorites from the Pac-Man #CodePenChallenge\u2026\n",
        "RT @Ronald_vanLoon: Best #Python modules for #datamining\n",
        "by @kdnuggets |\n",
        "\n",
        "Read more at https://t.co/LTvov2H2AV\n",
        "\n",
        "#MachineLearning #ML #NLP #\u2026\n",
        "RT @Ronald_vanLoon: Best #Python modules for #datamining\n",
        "by @kdnuggets |\n",
        "\n",
        "Read more at https://t.co/LTvov2H2AV\n",
        "\n",
        "#MachineLearning #ML #NLP #\u2026\n",
        "Best #Python modules for #datamining\n",
        "by @kdnuggets |\n",
        "\n",
        "Read more at https://t.co/LTvov2H2AV\n",
        "\n",
        "#MachineLearning #ML\u2026 https://t.co/6YMESZ3IBQ\n",
        "RT @YwanVanLoon: RT Ronald_vanLoon \"Best #Python modules for #datamining\n",
        "by kdnuggets |\n",
        "\n",
        "Read more at https://t.co/fBFgIookE7\n",
        "\n",
        "#MachineLear\u2026\n",
        "RT @pythonbot_: Easy As Raspberry Pi: A Step By Step Beginner's Guide To Building Your Own Internet Of Things With The Raspberry Pi Model 3\u2026\n",
        "RT Ronald_vanLoon \"Best #Python modules for #datamining\n",
        "by kdnuggets |\n",
        "\n",
        "Read more at https://t.co/fBFgIookE7\u2026 https://t.co/mnny71kN0Q\n",
        "Computer Programming For Beginners Learn Python Programming\n",
        "\n",
        "\u261e https://t.co/MrH00z6vQl\n",
        "\n",
        "#Python https://t.co/nZFpApHZkm\n",
        "Utiliza #python con tu #arduino: Leer datos de Arduino desde Python https://t.co/K7CHbLn98H via PYBONACCI\n",
        "Ei, @NEToficial por que minha internet est\u00e1 lenta? Esta 34 Download e 7 Upload e 74 de Ping. Eu pago por 60 Downloa\u2026 https://t.co/Lx2Gpugucv\n",
        "Driver tries to get out of offence by saying she\u2019s Homer Simpson \n",
        "\n",
        "  https://t.co/LbMt4hoKXB \n",
        "\n",
        "#kongsblog ur No:1 p\u2026 https://t.co/p1XF8SGo4h\n"
       ]
      }
     ],
     "prompt_number": 12
    },
    {
     "cell_type": "code",
     "collapsed": false,
     "input": [
      "#url = lambda u, n_twitter: \"https://api.twitter.com/1.1/search/tweets.json?q={}&count={}\".format(u, n_twitter)\n",
      "#_url = url(requests.utils.quote(\"#python\"), 80)\n",
      "\n",
      "url = \"https://api.twitter.com/1.1/search/tweets.json?q=%s&count=%d\"\n",
      "url = url % (requests.utils.quote(\"#python\"), 80)\n",
      "response = session.get(url)\n",
      "tweets = json.loads(response.content.decode(\"utf-8\"))\n",
      "len(tweets['statuses'])"
     ],
     "language": "python",
     "metadata": {},
     "outputs": [
      {
       "metadata": {},
       "output_type": "pyout",
       "prompt_number": 14,
       "text": [
        "74"
       ]
      }
     ],
     "prompt_number": 14
    },
    {
     "cell_type": "code",
     "collapsed": false,
     "input": [
      "_url = 'https://api.twitter.com/1.1/search/tweets.json?q=python&count=80'"
     ],
     "language": "python",
     "metadata": {},
     "outputs": [],
     "prompt_number": 44
    },
    {
     "cell_type": "code",
     "collapsed": false,
     "input": [
      "response = requests.get(_url)\n",
      "tweets = json.loads(response.content.decode(\"utf-8\"))"
     ],
     "language": "python",
     "metadata": {},
     "outputs": [],
     "prompt_number": 45
    },
    {
     "cell_type": "code",
     "collapsed": false,
     "input": [
      "tweets"
     ],
     "language": "python",
     "metadata": {},
     "outputs": [
      {
       "metadata": {},
       "output_type": "pyout",
       "prompt_number": 46,
       "text": [
        "{'errors': [{'code': 215, 'message': 'Bad Authentication data.'}]}"
       ]
      }
     ],
     "prompt_number": 46
    },
    {
     "cell_type": "code",
     "collapsed": false,
     "input": [
      "len(tweets['statuses'])"
     ],
     "language": "python",
     "metadata": {},
     "outputs": [
      {
       "ename": "KeyError",
       "evalue": "'statuses'",
       "output_type": "pyerr",
       "traceback": [
        "\u001b[0;31m---------------------------------------------------------------------------\u001b[0m\n\u001b[0;31mKeyError\u001b[0m                                  Traceback (most recent call last)",
        "\u001b[0;32m<ipython-input-41-829ef7f4a4f1>\u001b[0m in \u001b[0;36m<module>\u001b[0;34m()\u001b[0m\n\u001b[0;32m----> 1\u001b[0;31m \u001b[0mlen\u001b[0m\u001b[0;34m(\u001b[0m\u001b[0mtweets\u001b[0m\u001b[0;34m[\u001b[0m\u001b[0;34m'statuses'\u001b[0m\u001b[0;34m]\u001b[0m\u001b[0;34m)\u001b[0m\u001b[0;34m\u001b[0m\u001b[0m\n\u001b[0m",
        "\u001b[0;31mKeyError\u001b[0m: 'statuses'"
       ]
      }
     ],
     "prompt_number": 41
    },
    {
     "cell_type": "code",
     "collapsed": false,
     "input": [],
     "language": "python",
     "metadata": {},
     "outputs": []
    }
   ],
   "metadata": {}
  }
 ]
}