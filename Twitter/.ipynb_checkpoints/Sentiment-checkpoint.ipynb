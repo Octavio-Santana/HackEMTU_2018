{
 "metadata": {
  "name": ""
 },
 "nbformat": 3,
 "nbformat_minor": 0,
 "worksheets": [
  {
   "cells": [
    {
     "cell_type": "code",
     "collapsed": false,
     "input": [
      "from textblob import TextBlob\n",
      "from Twitter import MyTwitter\n",
      "twitter = MyTwitter()\n",
      "tweets = twitter.retweet_count('#vilaocultahacka', 100)\n",
      "\n",
      "print(tweets)"
     ],
     "language": "python",
     "metadata": {},
     "outputs": [
      {
       "output_type": "stream",
       "stream": "stdout",
       "text": [
        "['Dude I love bus so much, cheers to who made them, very happy with my experience #vilaocultahacka', 'Hate bus, how can something suck so hard, very frustrated. #vilaocultahacka', 'Mano eu amo \u00f4nibus demais, parab\u00e9ns aos envolvidos, estou muito satisfeito #vilaocultahacka', '\u00d4nibus \u00e9 muito ruim mano, t\u00f4 muito frustrado com essa experi\u00eancia #vilaocultahacka', '\u00f4nibus eh mto top vai #vilaocultahacka']\n"
       ]
      }
     ],
     "prompt_number": 1
    },
    {
     "cell_type": "code",
     "collapsed": false,
     "input": [
      "for t in tweets:\n",
      "    wiki = TextBlob(t)\n",
      "    print(t)\n",
      "    print(wiki.sentiment)\n",
      "    print()"
     ],
     "language": "python",
     "metadata": {},
     "outputs": [
      {
       "output_type": "stream",
       "stream": "stdout",
       "text": [
        "Dude I love bus so much, cheers to who made them, very happy with my experience #vilaocultahacka\n",
        "Sentiment(polarity=0.5666666666666667, subjectivity=0.6)"
       ]
      },
      {
       "output_type": "stream",
       "stream": "stdout",
       "text": [
        "\n",
        "\n",
        "Hate bus, how can something suck so hard, very frustrated. #vilaocultahacka\n",
        "Sentiment(polarity=-0.6672222222222223, subjectivity=0.5672222222222222)\n",
        "\n",
        "Mano eu amo \u00f4nibus demais, parab\u00e9ns aos envolvidos, estou muito satisfeito #vilaocultahacka\n",
        "Sentiment(polarity=0.0, subjectivity=0.0)\n",
        "\n",
        "\u00d4nibus \u00e9 muito ruim mano, t\u00f4 muito frustrado com essa experi\u00eancia #vilaocultahacka\n",
        "Sentiment(polarity=0.0, subjectivity=0.0)\n",
        "\n",
        "\u00f4nibus eh mto top vai #vilaocultahacka\n",
        "Sentiment(polarity=0.5, subjectivity=0.5)\n",
        "\n"
       ]
      }
     ],
     "prompt_number": 2
    },
    {
     "cell_type": "code",
     "collapsed": false,
     "input": [
      "sentiment = []\n",
      "for t in tweets:\n",
      "    text = TextBlob(t)\n",
      "    if text.detect_language() != 'en':\n",
      "        traduction = TextBlob(str(text.translate(to='en')))\n",
      "        print(t)\n",
      "        print(traduction.sentiment)\n",
      "        sentiment.append(traduction.sentiment.polarity)\n",
      "    else:\n",
      "        print(t)\n",
      "        print(text.sentiment)    \n",
      "        sentiment.append(text.sentiment.polarity)\n",
      "    print()"
     ],
     "language": "python",
     "metadata": {},
     "outputs": [
      {
       "output_type": "stream",
       "stream": "stdout",
       "text": [
        "Dude I love bus so much, cheers to who made them, very happy with my experience #vilaocultahacka\n",
        "Sentiment(polarity=0.5666666666666667, subjectivity=0.6)\n",
        "\n",
        "Hate bus, how can something suck so hard, very frustrated. #vilaocultahacka"
       ]
      },
      {
       "output_type": "stream",
       "stream": "stdout",
       "text": [
        "\n",
        "Sentiment(polarity=-0.6672222222222223, subjectivity=0.5672222222222222)\n",
        "\n",
        "Mano eu amo \u00f4nibus demais, parab\u00e9ns aos envolvidos, estou muito satisfeito #vilaocultahacka"
       ]
      },
      {
       "output_type": "stream",
       "stream": "stdout",
       "text": [
        "\n",
        "Sentiment(polarity=0.5499999999999999, subjectivity=0.7000000000000001)\n",
        "\n",
        "\u00d4nibus \u00e9 muito ruim mano, t\u00f4 muito frustrado com essa experi\u00eancia #vilaocultahacka"
       ]
      },
      {
       "output_type": "stream",
       "stream": "stdout",
       "text": [
        "\n",
        "Sentiment(polarity=-0.9099999999999999, subjectivity=0.5633333333333334)\n",
        "\n",
        "\u00f4nibus eh mto top vai #vilaocultahacka"
       ]
      },
      {
       "output_type": "stream",
       "stream": "stdout",
       "text": [
        "\n",
        "Sentiment(polarity=0.5, subjectivity=0.5)\n",
        "\n"
       ]
      }
     ],
     "prompt_number": 3
    },
    {
     "cell_type": "code",
     "collapsed": false,
     "input": [],
     "language": "python",
     "metadata": {},
     "outputs": []
    },
    {
     "cell_type": "code",
     "collapsed": false,
     "input": [
      "import nltk"
     ],
     "language": "python",
     "metadata": {},
     "outputs": [],
     "prompt_number": 9
    },
    {
     "cell_type": "code",
     "collapsed": false,
     "input": [
      "nltk.download('averaged_perceptron_tagger')"
     ],
     "language": "python",
     "metadata": {},
     "outputs": [
      {
       "output_type": "stream",
       "stream": "stdout",
       "text": [
        "[nltk_data] Downloading package averaged_perceptron_tagger to\n",
        "[nltk_data]     /home/octavio/nltk_data...\n",
        "[nltk_data]   Package averaged_perceptron_tagger is already up-to-\n",
        "[nltk_data]       date!\n"
       ]
      },
      {
       "metadata": {},
       "output_type": "pyout",
       "prompt_number": 10,
       "text": [
        "True"
       ]
      }
     ],
     "prompt_number": 10
    },
    {
     "cell_type": "code",
     "collapsed": false,
     "input": [],
     "language": "python",
     "metadata": {},
     "outputs": []
    }
   ],
   "metadata": {}
  }
 ]
}